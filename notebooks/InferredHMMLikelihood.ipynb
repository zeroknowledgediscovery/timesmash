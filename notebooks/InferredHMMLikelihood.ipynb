{
 "cells": [
  {
   "cell_type": "code",
   "execution_count": 22,
   "id": "authorized-mechanism",
   "metadata": {},
   "outputs": [
    {
     "name": "stdout",
     "output_type": "stream",
     "text": [
      "Predicted label:  [1]\n"
     ]
    }
   ],
   "source": [
    "from timesmash import InferredHMMLikelihood\n",
    "from sklearn.ensemble import RandomForestClassifier\n",
    "\n",
    "#Creating data\n",
    "train = [[1, 0, 1, 0, 1, 0, 1, 0, 1, 1, 0, 1, 0, 1, 0, 1, 0, 1, 0, 1, 0, 1, 0, 1, 0, 1, 0], \n",
    "         [1, 1, 0, 1, 1, 0, 1, 1, 0, 1, 1, 0, 1, 1, 0, 1, 0, 1, 1, 0, 1, 1, 0, 1, 1, 0, 1, 1, 1, 0, 1, 1, 0, 1, 1, 0, 1, 1, 0, 1, 1]]\n",
    "train_label = [0, 1]\n",
    "test = [[0, 1, 0, 1, 0, 1, 0, 1, 1, 0, 1, 0, 1, 1, 0, 1, 0, 1, 1, 0, 1, 0, 1]]\n",
    "\n",
    "#Finding HMM and computing log likelihood\n",
    "alg = InferredHMMLikelihood().fit(train=train,label=train_label)\n",
    "train_features = alg.transform(train)\n",
    "test_features = alg.transform(test)\n",
    "\n",
    "# Using log likelihood as feature for classification \n",
    "clf = RandomForestClassifier().fit(train_features, train_label)\n",
    "label = clf.predict(test_features)\n",
    "print(\"Predicted label: \", label)"
   ]
  },
  {
   "cell_type": "code",
   "execution_count": 5,
   "id": "68e4f8f4-f4e2-4040-9145-74f4ec5898ab",
   "metadata": {},
   "outputs": [
    {
     "data": {
      "text/html": [
       "<div>\n",
       "<style scoped>\n",
       "    .dataframe tbody tr th:only-of-type {\n",
       "        vertical-align: middle;\n",
       "    }\n",
       "\n",
       "    .dataframe tbody tr th {\n",
       "        vertical-align: top;\n",
       "    }\n",
       "\n",
       "    .dataframe thead th {\n",
       "        text-align: right;\n",
       "    }\n",
       "</style>\n",
       "<table border=\"1\" class=\"dataframe\">\n",
       "  <thead>\n",
       "    <tr style=\"text-align: right;\">\n",
       "      <th></th>\n",
       "      <th>ts_temp/clean_1001602_30f772ef-5634-4bdf-b886-fb49c00965460</th>\n",
       "      <th>ts_temp/clean_1001602_5b1b2453-3996-48cf-9dd7-efaa973f241f0</th>\n",
       "    </tr>\n",
       "  </thead>\n",
       "  <tbody>\n",
       "    <tr>\n",
       "      <th>0</th>\n",
       "      <td>-0.0</td>\n",
       "      <td>-0.0</td>\n",
       "    </tr>\n",
       "    <tr>\n",
       "      <th>1</th>\n",
       "      <td>-0.0</td>\n",
       "      <td>-0.0</td>\n",
       "    </tr>\n",
       "  </tbody>\n",
       "</table>\n",
       "</div>"
      ],
      "text/plain": [
       "   ts_temp/clean_1001602_30f772ef-5634-4bdf-b886-fb49c00965460  \\\n",
       "0                                               -0.0             \n",
       "1                                               -0.0             \n",
       "\n",
       "   ts_temp/clean_1001602_5b1b2453-3996-48cf-9dd7-efaa973f241f0  \n",
       "0                                               -0.0            \n",
       "1                                               -0.0            "
      ]
     },
     "execution_count": 5,
     "metadata": {},
     "output_type": "execute_result"
    }
   ],
   "source": [
    "train_features"
   ]
  },
  {
   "cell_type": "code",
   "execution_count": null,
   "id": "3cc7958c-ad4f-4dd8-84c0-e7a84a7a2346",
   "metadata": {},
   "outputs": [],
   "source": []
  }
 ],
 "metadata": {
  "kernelspec": {
   "display_name": "Python 3 (ipykernel)",
   "language": "python",
   "name": "python3"
  },
  "language_info": {
   "codemirror_mode": {
    "name": "ipython",
    "version": 3
   },
   "file_extension": ".py",
   "mimetype": "text/x-python",
   "name": "python",
   "nbconvert_exporter": "python",
   "pygments_lexer": "ipython3",
   "version": "3.10.8"
  }
 },
 "nbformat": 4,
 "nbformat_minor": 5
}
